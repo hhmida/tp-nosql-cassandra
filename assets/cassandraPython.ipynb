{
 "cells": [
  {
   "cell_type": "markdown",
   "metadata": {},
   "source": [
    "<h1 style='color:blue;'>Accès à une BD Cassandra avec Python</h1>\n",
    "\n",
    "---\n",
    "\n",
    "**Auteur :** Dr. Hmida HMIDA"
   ]
  },
  {
   "cell_type": "markdown",
   "metadata": {},
   "source": [
    "# Installer le driver cassandra"
   ]
  },
  {
   "cell_type": "code",
   "execution_count": null,
   "metadata": {},
   "outputs": [],
   "source": [
    "!pip3 install cassandra-driver"
   ]
  },
  {
   "cell_type": "markdown",
   "metadata": {},
   "source": [
    "# Connexion au serveur"
   ]
  },
  {
   "cell_type": "code",
   "execution_count": null,
   "metadata": {},
   "outputs": [],
   "source": [
    "from cassandra.cluster import Cluster\n",
    "#cluster = Cluster()\n",
    "# ou en spécifiant @IP et le port\n",
    "cluster = Cluster(['127.0.0.1'], port=9042)\n",
    "session = cluster.connect()"
   ]
  },
  {
   "cell_type": "markdown",
   "metadata": {},
   "source": [
    "## Connexion avec mot de passe"
   ]
  },
  {
   "cell_type": "code",
   "execution_count": null,
   "metadata": {},
   "outputs": [],
   "source": [
    "from cassandra.cluster import Cluster\n",
    "from cassandra.auth import PlainTextAuthProvider\n",
    "\n",
    "auth_provider = PlainTextAuthProvider(username='user', password='password')\n",
    "cluster = Cluster(auth_provider=auth_provider, protocol_version=2)\n",
    "session2 = cluster.connect()"
   ]
  },
  {
   "cell_type": "markdown",
   "metadata": {},
   "source": [
    "# Choix du keyspace"
   ]
  },
  {
   "cell_type": "code",
   "execution_count": null,
   "metadata": {},
   "outputs": [],
   "source": [
    "session.set_keyspace('resto_ny')\n",
    "## ou \n",
    "# session.execute('use resto_ny')"
   ]
  },
  {
   "cell_type": "markdown",
   "metadata": {},
   "source": [
    "# Exécuter des requêtes"
   ]
  },
  {
   "cell_type": "code",
   "execution_count": null,
   "metadata": {},
   "outputs": [],
   "source": [
    "rows = session.execute('SELECT name, borough, zipcode FROM restaurant limit 10')\n",
    "header = 'Name'.ljust(70)+'|Borough'.ljust(30)+'|Zipcode'.ljust(10)\n",
    "print('-'*len(header))\n",
    "print(header)\n",
    "print('-'*len(header))\n",
    "for resto in rows:\n",
    "    print (resto.name.ljust(70)+'|'+resto.borough.ljust(30)+'|'+str(resto.zipcode).ljust(10))\n",
    "    # ou par position\n",
    "    # print (resto[0].ljust(70)+'|'+resto[1].ljust(30)+'|'+str(resto[2]).ljust(10))\n",
    "print('-'*len(header))"
   ]
  },
  {
   "cell_type": "markdown",
   "metadata": {},
   "source": [
    "# Prepared Statement\n",
    "**Essayer avec les valeurs 10023, 10033, ...**"
   ]
  },
  {
   "cell_type": "code",
   "execution_count": null,
   "metadata": {},
   "outputs": [],
   "source": [
    "rechParZipcode = session.prepare('SELECT name, borough, zipcode FROM restaurant WHERE zipcode = ? LIMIT 10 ALLOW FILTERING')\n",
    "zcode = int(input('Entrer le code postal :'))\n",
    "rows = session.execute(rechParZipcode,[zcode])\n",
    "header = 'Name'.ljust(70)+'|Borough'.ljust(30)+'|Zipcode'.ljust(10)\n",
    "print('-'*len(header))\n",
    "print(header)\n",
    "print('-'*len(header))\n",
    "for resto in rows:\n",
    "    print (resto.name.ljust(70)+'|'+resto.borough.ljust(30)+'|'+str(resto.zipcode).ljust(10))\n",
    "    # ou par position\n",
    "    # print (resto[0].ljust(70)+'|'+resto[1].ljust(30)+'|'+str(resto[2]).ljust(10))\n",
    "print('-'*len(header))"
   ]
  },
  {
   "cell_type": "markdown",
   "metadata": {},
   "source": [
    "# Fermeture de la session"
   ]
  },
  {
   "cell_type": "code",
   "execution_count": null,
   "metadata": {},
   "outputs": [],
   "source": [
    "session.shutdown()"
   ]
  },
  {
   "cell_type": "markdown",
   "metadata": {},
   "source": [
    "# Utilisation d'un UDT"
   ]
  },
  {
   "cell_type": "code",
   "execution_count": null,
   "metadata": {},
   "outputs": [],
   "source": [
    "from cassandra.cluster import Cluster\n",
    "cluster = Cluster(protocol_version=3)\n",
    "session = cluster.connect()\n",
    "session.set_keyspace('resto_ny')\n",
    "session.execute(\"CREATE TYPE IF NOT EXISTS address (street text, zipcode int)\")\n",
    "session.execute(\"CREATE TABLE IF NOT EXISTS users (id int PRIMARY KEY, location frozen<address>)\")\n",
    "\n",
    "cluster.register_user_type('resto_ny', 'address', dict)\n",
    "\n",
    "# insert a row using a prepared statement and a tuple\n",
    "insert_statement = session.prepare(\"INSERT INTO users (id, location) VALUES (?, ?)\")\n",
    "session.execute(insert_statement, [0, (\"123 Main St.\", 78723)])\n",
    "\n",
    "# results will include dict instances\n",
    "results = session.execute(\"SELECT * FROM users\")\n",
    "row = results.one()\n",
    "print(row.id, row.location['street'], row.location['zipcode'])"
   ]
  },
  {
   "cell_type": "markdown",
   "metadata": {},
   "source": [
    "---\n",
    "<h1 style=\"color:green\"> Exercice 1</h1>\n",
    "\n",
    "Écrire un programme Python permettant de :\n",
    "\n",
    "- Saisir un quartier (borough)\n",
    "- Chercher les restaurants de ce quartier\n",
    "- Afficher pour chaque restaurant trouvé les dates des inspections pour lesquelles il a reçu un grade 'B' "
   ]
  },
  {
   "cell_type": "code",
   "execution_count": null,
   "metadata": {},
   "outputs": [],
   "source": [
    "# Votre code ici"
   ]
  },
  {
   "cell_type": "markdown",
   "metadata": {},
   "source": [
    "---\n",
    "<h1 style=\"color:green\"> Exercice 2</h1>\n",
    "\n",
    "Écrire un programme Python qui  importe un fichier JSON dans une table Cassandra. "
   ]
  },
  {
   "cell_type": "code",
   "execution_count": null,
   "metadata": {},
   "outputs": [],
   "source": [
    "# Votre code ici"
   ]
  },
  {
   "cell_type": "markdown",
   "metadata": {},
   "source": [
    "---\n",
    "<h1 style=\"color:green\"> Exercice 3</h1>\n",
    "\n",
    "Écrire un programme Python qui fusionne les tables ***Restaurant*** et ***Inspection*** en une seule table RestoInspectionV2 avec intégrant les inspections comme un map dans les restaurants (Second Besoin dans le TP3) "
   ]
  },
  {
   "cell_type": "code",
   "execution_count": null,
   "metadata": {},
   "outputs": [],
   "source": [
    "# Votre code ici"
   ]
  }
 ],
 "metadata": {
  "interpreter": {
   "hash": "31f2aee4e71d21fbe5cf8b01ff0e069b9275f58929596ceb00d14d90e3e16cd6"
  },
  "kernelspec": {
   "display_name": "Python 3 (ipykernel)",
   "language": "python",
   "name": "python3"
  },
  "language_info": {
   "codemirror_mode": {
    "name": "ipython",
    "version": 3
   },
   "file_extension": ".py",
   "mimetype": "text/x-python",
   "name": "python",
   "nbconvert_exporter": "python",
   "pygments_lexer": "ipython3",
   "version": "3.10.6"
  },
  "toc": {
   "base_numbering": 1,
   "nav_menu": {},
   "number_sections": true,
   "sideBar": true,
   "skip_h1_title": false,
   "title_cell": "Table of Contents",
   "title_sidebar": "Contents",
   "toc_cell": false,
   "toc_position": {},
   "toc_section_display": true,
   "toc_window_display": true
  },
  "varInspector": {
   "cols": {
    "lenName": 16,
    "lenType": 16,
    "lenVar": 40
   },
   "kernels_config": {
    "python": {
     "delete_cmd_postfix": "",
     "delete_cmd_prefix": "del ",
     "library": "var_list.py",
     "varRefreshCmd": "print(var_dic_list())"
    },
    "r": {
     "delete_cmd_postfix": ") ",
     "delete_cmd_prefix": "rm(",
     "library": "var_list.r",
     "varRefreshCmd": "cat(var_dic_list()) "
    }
   },
   "types_to_exclude": [
    "module",
    "function",
    "builtin_function_or_method",
    "instance",
    "_Feature"
   ],
   "window_display": false
  }
 },
 "nbformat": 4,
 "nbformat_minor": 2
}
